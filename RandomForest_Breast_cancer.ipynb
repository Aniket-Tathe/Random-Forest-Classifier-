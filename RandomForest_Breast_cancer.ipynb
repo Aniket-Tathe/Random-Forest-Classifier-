{
 "cells": [
  {
   "cell_type": "code",
   "execution_count": 2,
   "id": "23edfd24",
   "metadata": {},
   "outputs": [],
   "source": [
    "import warnings\n",
    "warnings.filterwarnings(\"ignore\")\n",
    "import time\n",
    "import random\n",
    "from math import *\n",
    "import operator\n",
    "import pandas as pd\n",
    "import numpy as np\n",
    "\n",
    "# import plotting libraries\n",
    "import matplotlib\n",
    "import matplotlib.pyplot as plt\n",
    "from pandas.plotting import scatter_matrix\n",
    "%matplotlib inline \n",
    "\n",
    "import seaborn as sns\n",
    "sns.set(style=\"white\", color_codes=True)\n",
    "sns.set(font_scale=1.5)\n",
    "\n",
    "# load make_blobs to simulate data\n",
    "from sklearn.datasets import make_blobs\n",
    "from sklearn.datasets import make_classification\n",
    "\n",
    "# import the ML algorithm\n",
    "from sklearn.neighbors import KNeighborsClassifier\n",
    "from sklearn.linear_model import LinearRegression\n",
    "from sklearn.linear_model import LogisticRegression\n",
    "from statsmodels.tools.eval_measures import rmse\n",
    "from sklearn.naive_bayes import GaussianNB\n",
    "from sklearn.naive_bayes import MultinomialNB\n",
    "from sklearn.tree import DecisionTreeClassifier\n",
    "from sklearn.ensemble import RandomForestClassifier\n",
    "\n",
    "# pre-processing\n",
    "from sklearn import preprocessing\n",
    "from sklearn.preprocessing import MinMaxScaler\n",
    "from sklearn.preprocessing import StandardScaler\n",
    "from sklearn.preprocessing import scale\n",
    "from sklearn.preprocessing import minmax_scale\n",
    "from sklearn.preprocessing import MaxAbsScaler\n",
    "from sklearn.preprocessing import RobustScaler\n",
    "from sklearn.preprocessing import Normalizer\n",
    "#from sklearn.preprocessing.data import QuantileTransformer\n",
    "#from sklearn.preprocessing import Imputer\n",
    "from sklearn.decomposition import PCA\n",
    "from sklearn.feature_selection import SelectKBest\n",
    "from sklearn.feature_selection import chi2\n",
    "\n",
    "# import libraries for model validation\n",
    "from sklearn.model_selection import StratifiedKFold\n",
    "from sklearn.model_selection import KFold\n",
    "from sklearn.model_selection import cross_val_score\n",
    "from sklearn.model_selection import train_test_split\n",
    "from sklearn.model_selection import LeaveOneOut \n",
    "\n",
    "# import libraries for metrics and reporting\n",
    "from sklearn.metrics import confusion_matrix\n",
    "from sklearn.metrics import classification_report\n",
    "from sklearn.metrics import accuracy_score\n",
    "from sklearn.metrics import precision_score\n",
    "from sklearn.metrics import recall_score\n",
    "from sklearn.metrics import f1_score\n",
    "from sklearn import metrics\n",
    "from sklearn.metrics import classification_report\n",
    "from sklearn.metrics import roc_curve, auc\n",
    "\n",
    "from sklearn.model_selection import GridSearchCV"
   ]
  },
  {
   "cell_type": "code",
   "execution_count": 3,
   "id": "aa4b3248",
   "metadata": {},
   "outputs": [],
   "source": [
    "location = r\"C:\\Users\\LENOVO\\Desktop\\Files\\symbi\\datasets-20220603T114254Z-001\\datasets\\breast-cancer-wisconsin.csv\""
   ]
  },
  {
   "cell_type": "code",
   "execution_count": 4,
   "id": "008eb657",
   "metadata": {},
   "outputs": [],
   "source": [
    "names = ['id_number', 'diagnosis', 'radius_mean', \n",
    "         'texture_mean', 'perimeter_mean', 'area_mean', \n",
    "         'smoothness_mean', 'compactness_mean', \n",
    "         'concavity_mean','concave_points_mean', \n",
    "         'symmetry_mean', 'fractal_dimension_mean',\n",
    "         'radius_se', 'texture_se', 'perimeter_se', \n",
    "         'area_se', 'smoothness_se', 'compactness_se', \n",
    "         'concavity_se', 'concave_points_se', \n",
    "         'symmetry_se', 'fractal_dimension_se', \n",
    "         'radius_worst', 'texture_worst', \n",
    "         'perimeter_worst', 'area_worst', \n",
    "         'smoothness_worst', 'compactness_worst', \n",
    "         'concavity_worst', 'concave_points_worst', \n",
    "         'symmetry_worst', 'fractal_dimension_worst'] \n",
    "\n",
    "dx = ['Benign', 'Malignant']"
   ]
  },
  {
   "cell_type": "code",
   "execution_count": 5,
   "id": "c8cbce8b",
   "metadata": {},
   "outputs": [],
   "source": [
    "# load the training data from breast cancer data set\n",
    "breast_cancer = pd.read_csv(location, names=names)"
   ]
  },
  {
   "cell_type": "code",
   "execution_count": 6,
   "id": "768c4009",
   "metadata": {},
   "outputs": [
    {
     "data": {
      "text/plain": [
       "(569, 32)"
      ]
     },
     "execution_count": 6,
     "metadata": {},
     "output_type": "execute_result"
    }
   ],
   "source": [
    "breast_cancer.shape"
   ]
  },
  {
   "cell_type": "code",
   "execution_count": 7,
   "id": "c5ab0c07",
   "metadata": {},
   "outputs": [
    {
     "data": {
      "text/html": [
       "<div>\n",
       "<style scoped>\n",
       "    .dataframe tbody tr th:only-of-type {\n",
       "        vertical-align: middle;\n",
       "    }\n",
       "\n",
       "    .dataframe tbody tr th {\n",
       "        vertical-align: top;\n",
       "    }\n",
       "\n",
       "    .dataframe thead th {\n",
       "        text-align: right;\n",
       "    }\n",
       "</style>\n",
       "<table border=\"1\" class=\"dataframe\">\n",
       "  <thead>\n",
       "    <tr style=\"text-align: right;\">\n",
       "      <th></th>\n",
       "      <th>id_number</th>\n",
       "      <th>diagnosis</th>\n",
       "      <th>radius_mean</th>\n",
       "      <th>texture_mean</th>\n",
       "      <th>perimeter_mean</th>\n",
       "      <th>area_mean</th>\n",
       "      <th>smoothness_mean</th>\n",
       "      <th>compactness_mean</th>\n",
       "      <th>concavity_mean</th>\n",
       "      <th>concave_points_mean</th>\n",
       "      <th>...</th>\n",
       "      <th>radius_worst</th>\n",
       "      <th>texture_worst</th>\n",
       "      <th>perimeter_worst</th>\n",
       "      <th>area_worst</th>\n",
       "      <th>smoothness_worst</th>\n",
       "      <th>compactness_worst</th>\n",
       "      <th>concavity_worst</th>\n",
       "      <th>concave_points_worst</th>\n",
       "      <th>symmetry_worst</th>\n",
       "      <th>fractal_dimension_worst</th>\n",
       "    </tr>\n",
       "  </thead>\n",
       "  <tbody>\n",
       "    <tr>\n",
       "      <th>0</th>\n",
       "      <td>842302</td>\n",
       "      <td>M</td>\n",
       "      <td>17.99</td>\n",
       "      <td>10.38</td>\n",
       "      <td>122.80</td>\n",
       "      <td>1001.0</td>\n",
       "      <td>0.11840</td>\n",
       "      <td>0.27760</td>\n",
       "      <td>0.3001</td>\n",
       "      <td>0.14710</td>\n",
       "      <td>...</td>\n",
       "      <td>25.38</td>\n",
       "      <td>17.33</td>\n",
       "      <td>184.60</td>\n",
       "      <td>2019.0</td>\n",
       "      <td>0.1622</td>\n",
       "      <td>0.6656</td>\n",
       "      <td>0.7119</td>\n",
       "      <td>0.2654</td>\n",
       "      <td>0.4601</td>\n",
       "      <td>0.11890</td>\n",
       "    </tr>\n",
       "    <tr>\n",
       "      <th>1</th>\n",
       "      <td>842517</td>\n",
       "      <td>M</td>\n",
       "      <td>20.57</td>\n",
       "      <td>17.77</td>\n",
       "      <td>132.90</td>\n",
       "      <td>1326.0</td>\n",
       "      <td>0.08474</td>\n",
       "      <td>0.07864</td>\n",
       "      <td>0.0869</td>\n",
       "      <td>0.07017</td>\n",
       "      <td>...</td>\n",
       "      <td>24.99</td>\n",
       "      <td>23.41</td>\n",
       "      <td>158.80</td>\n",
       "      <td>1956.0</td>\n",
       "      <td>0.1238</td>\n",
       "      <td>0.1866</td>\n",
       "      <td>0.2416</td>\n",
       "      <td>0.1860</td>\n",
       "      <td>0.2750</td>\n",
       "      <td>0.08902</td>\n",
       "    </tr>\n",
       "    <tr>\n",
       "      <th>2</th>\n",
       "      <td>84300903</td>\n",
       "      <td>M</td>\n",
       "      <td>19.69</td>\n",
       "      <td>21.25</td>\n",
       "      <td>130.00</td>\n",
       "      <td>1203.0</td>\n",
       "      <td>0.10960</td>\n",
       "      <td>0.15990</td>\n",
       "      <td>0.1974</td>\n",
       "      <td>0.12790</td>\n",
       "      <td>...</td>\n",
       "      <td>23.57</td>\n",
       "      <td>25.53</td>\n",
       "      <td>152.50</td>\n",
       "      <td>1709.0</td>\n",
       "      <td>0.1444</td>\n",
       "      <td>0.4245</td>\n",
       "      <td>0.4504</td>\n",
       "      <td>0.2430</td>\n",
       "      <td>0.3613</td>\n",
       "      <td>0.08758</td>\n",
       "    </tr>\n",
       "    <tr>\n",
       "      <th>3</th>\n",
       "      <td>84348301</td>\n",
       "      <td>M</td>\n",
       "      <td>11.42</td>\n",
       "      <td>20.38</td>\n",
       "      <td>77.58</td>\n",
       "      <td>386.1</td>\n",
       "      <td>0.14250</td>\n",
       "      <td>0.28390</td>\n",
       "      <td>0.2414</td>\n",
       "      <td>0.10520</td>\n",
       "      <td>...</td>\n",
       "      <td>14.91</td>\n",
       "      <td>26.50</td>\n",
       "      <td>98.87</td>\n",
       "      <td>567.7</td>\n",
       "      <td>0.2098</td>\n",
       "      <td>0.8663</td>\n",
       "      <td>0.6869</td>\n",
       "      <td>0.2575</td>\n",
       "      <td>0.6638</td>\n",
       "      <td>0.17300</td>\n",
       "    </tr>\n",
       "    <tr>\n",
       "      <th>4</th>\n",
       "      <td>84358402</td>\n",
       "      <td>M</td>\n",
       "      <td>20.29</td>\n",
       "      <td>14.34</td>\n",
       "      <td>135.10</td>\n",
       "      <td>1297.0</td>\n",
       "      <td>0.10030</td>\n",
       "      <td>0.13280</td>\n",
       "      <td>0.1980</td>\n",
       "      <td>0.10430</td>\n",
       "      <td>...</td>\n",
       "      <td>22.54</td>\n",
       "      <td>16.67</td>\n",
       "      <td>152.20</td>\n",
       "      <td>1575.0</td>\n",
       "      <td>0.1374</td>\n",
       "      <td>0.2050</td>\n",
       "      <td>0.4000</td>\n",
       "      <td>0.1625</td>\n",
       "      <td>0.2364</td>\n",
       "      <td>0.07678</td>\n",
       "    </tr>\n",
       "  </tbody>\n",
       "</table>\n",
       "<p>5 rows × 32 columns</p>\n",
       "</div>"
      ],
      "text/plain": [
       "   id_number diagnosis  radius_mean  texture_mean  perimeter_mean  area_mean  \\\n",
       "0     842302         M        17.99         10.38          122.80     1001.0   \n",
       "1     842517         M        20.57         17.77          132.90     1326.0   \n",
       "2   84300903         M        19.69         21.25          130.00     1203.0   \n",
       "3   84348301         M        11.42         20.38           77.58      386.1   \n",
       "4   84358402         M        20.29         14.34          135.10     1297.0   \n",
       "\n",
       "   smoothness_mean  compactness_mean  concavity_mean  concave_points_mean  \\\n",
       "0          0.11840           0.27760          0.3001              0.14710   \n",
       "1          0.08474           0.07864          0.0869              0.07017   \n",
       "2          0.10960           0.15990          0.1974              0.12790   \n",
       "3          0.14250           0.28390          0.2414              0.10520   \n",
       "4          0.10030           0.13280          0.1980              0.10430   \n",
       "\n",
       "   ...  radius_worst  texture_worst  perimeter_worst  area_worst  \\\n",
       "0  ...         25.38          17.33           184.60      2019.0   \n",
       "1  ...         24.99          23.41           158.80      1956.0   \n",
       "2  ...         23.57          25.53           152.50      1709.0   \n",
       "3  ...         14.91          26.50            98.87       567.7   \n",
       "4  ...         22.54          16.67           152.20      1575.0   \n",
       "\n",
       "   smoothness_worst  compactness_worst  concavity_worst  concave_points_worst  \\\n",
       "0            0.1622             0.6656           0.7119                0.2654   \n",
       "1            0.1238             0.1866           0.2416                0.1860   \n",
       "2            0.1444             0.4245           0.4504                0.2430   \n",
       "3            0.2098             0.8663           0.6869                0.2575   \n",
       "4            0.1374             0.2050           0.4000                0.1625   \n",
       "\n",
       "   symmetry_worst  fractal_dimension_worst  \n",
       "0          0.4601                  0.11890  \n",
       "1          0.2750                  0.08902  \n",
       "2          0.3613                  0.08758  \n",
       "3          0.6638                  0.17300  \n",
       "4          0.2364                  0.07678  \n",
       "\n",
       "[5 rows x 32 columns]"
      ]
     },
     "execution_count": 7,
     "metadata": {},
     "output_type": "execute_result"
    }
   ],
   "source": [
    "# examine the structure of data\n",
    "breast_cancer.head()"
   ]
  },
  {
   "cell_type": "markdown",
   "id": "4674111a",
   "metadata": {},
   "source": [
    "Cleaning\n",
    "minor cleaning,\n",
    "\n",
    "such as setting the id_number to the data frame index and\n",
    "converting the diagnosis to the standard binary 1, 0 representation using the map() function."
   ]
  },
  {
   "cell_type": "code",
   "execution_count": 8,
   "id": "15070b2e",
   "metadata": {},
   "outputs": [],
   "source": [
    "# Setting 'id_number' as our index\n",
    "breast_cancer.set_index(['id_number'], inplace = True)\n",
    "# Converted to binary to help later on with models and plots\n",
    "breast_cancer['diagnosis'] = breast_cancer['diagnosis'].map({'M':1, 'B':0})"
   ]
  },
  {
   "cell_type": "code",
   "execution_count": 9,
   "id": "fed8bc15",
   "metadata": {},
   "outputs": [
    {
     "data": {
      "text/plain": [
       "diagnosis                  0\n",
       "radius_mean                0\n",
       "texture_mean               0\n",
       "perimeter_mean             0\n",
       "area_mean                  0\n",
       "smoothness_mean            0\n",
       "compactness_mean           0\n",
       "concavity_mean             0\n",
       "concave_points_mean        0\n",
       "symmetry_mean              0\n",
       "fractal_dimension_mean     0\n",
       "radius_se                  0\n",
       "texture_se                 0\n",
       "perimeter_se               0\n",
       "area_se                    0\n",
       "smoothness_se              0\n",
       "compactness_se             0\n",
       "concavity_se               0\n",
       "concave_points_se          0\n",
       "symmetry_se                0\n",
       "fractal_dimension_se       0\n",
       "radius_worst               0\n",
       "texture_worst              0\n",
       "perimeter_worst            0\n",
       "area_worst                 0\n",
       "smoothness_worst           0\n",
       "compactness_worst          0\n",
       "concavity_worst            0\n",
       "concave_points_worst       0\n",
       "symmetry_worst             0\n",
       "fractal_dimension_worst    0\n",
       "dtype: int64"
      ]
     },
     "execution_count": 9,
     "metadata": {},
     "output_type": "execute_result"
    }
   ],
   "source": [
    "breast_cancer.isnull().sum()"
   ]
  },
  {
   "cell_type": "code",
   "execution_count": 10,
   "id": "71a61588",
   "metadata": {},
   "outputs": [
    {
     "name": "stdout",
     "output_type": "stream",
     "text": [
      "Sanity Check! No missing Values found!\n"
     ]
    }
   ],
   "source": [
    "for col in breast_cancer:\n",
    "    if ((breast_cancer[col].isnull().values.ravel().sum()) == 0):\n",
    "        pass\n",
    "    else:\n",
    "        print(col)\n",
    "        print((breast_cancer[col].isnull().values.ravel().sum()))\n",
    "        \n",
    "print('Sanity Check! No missing Values found!')"
   ]
  },
  {
   "cell_type": "code",
   "execution_count": 11,
   "id": "59f79c0a",
   "metadata": {},
   "outputs": [],
   "source": [
    "names_index = names[2:]"
   ]
  },
  {
   "cell_type": "code",
   "execution_count": 12,
   "id": "c6961687",
   "metadata": {},
   "outputs": [
    {
     "name": "stdout",
     "output_type": "stream",
     "text": [
      "Here's the dimensions of our data frame:\n",
      " (569, 31)\n",
      "Here's the data types of our columns:\n",
      " diagnosis                    int64\n",
      "radius_mean                float64\n",
      "texture_mean               float64\n",
      "perimeter_mean             float64\n",
      "area_mean                  float64\n",
      "smoothness_mean            float64\n",
      "compactness_mean           float64\n",
      "concavity_mean             float64\n",
      "concave_points_mean        float64\n",
      "symmetry_mean              float64\n",
      "fractal_dimension_mean     float64\n",
      "radius_se                  float64\n",
      "texture_se                 float64\n",
      "perimeter_se               float64\n",
      "area_se                    float64\n",
      "smoothness_se              float64\n",
      "compactness_se             float64\n",
      "concavity_se               float64\n",
      "concave_points_se          float64\n",
      "symmetry_se                float64\n",
      "fractal_dimension_se       float64\n",
      "radius_worst               float64\n",
      "texture_worst              float64\n",
      "perimeter_worst            float64\n",
      "area_worst                 float64\n",
      "smoothness_worst           float64\n",
      "compactness_worst          float64\n",
      "concavity_worst            float64\n",
      "concave_points_worst       float64\n",
      "symmetry_worst             float64\n",
      "fractal_dimension_worst    float64\n",
      "dtype: object\n"
     ]
    }
   ],
   "source": [
    "print(\"Here's the dimensions of our data frame:\\n\",\n",
    "     breast_cancer.shape)\n",
    "print(\"Here's the data types of our columns:\\n\",\n",
    "     breast_cancer.dtypes)"
   ]
  },
  {
   "cell_type": "code",
   "execution_count": 13,
   "id": "140cb795",
   "metadata": {},
   "outputs": [],
   "source": [
    "def print_dx_perc(data_frame, col):\n",
    "    \"\"\"Function used to print class distribution for our data set\"\"\"\n",
    "    \n",
    "    dx_vals = data_frame[col].value_counts()\n",
    "    dx_vals = dx_vals.reset_index()\n",
    "    \n",
    "    # Create a function to output the percentage\n",
    "    f = lambda x, y: 100 * (x / sum(y))\n",
    "    for i in range(0, len(dx)):\n",
    "        print('{0} accounts for {1:.2f}% of the diagnosis class'\\\n",
    "          .format(dx[i], f(dx_vals[col].iloc[i],\n",
    "                           dx_vals[col])))"
   ]
  },
  {
   "cell_type": "code",
   "execution_count": 14,
   "id": "3ca046c0",
   "metadata": {},
   "outputs": [
    {
     "name": "stdout",
     "output_type": "stream",
     "text": [
      "Benign accounts for 62.74% of the diagnosis class\n",
      "Malignant accounts for 37.26% of the diagnosis class\n"
     ]
    }
   ],
   "source": [
    "print_dx_perc(breast_cancer, 'diagnosis')"
   ]
  },
  {
   "cell_type": "code",
   "execution_count": 15,
   "id": "d60b1eb9",
   "metadata": {},
   "outputs": [
    {
     "data": {
      "text/plain": [
       "0    357\n",
       "1    212\n",
       "Name: diagnosis, dtype: int64"
      ]
     },
     "execution_count": 15,
     "metadata": {},
     "output_type": "execute_result"
    }
   ],
   "source": [
    "breast_cancer.diagnosis.value_counts()"
   ]
  },
  {
   "cell_type": "markdown",
   "id": "af0317ab",
   "metadata": {},
   "source": [
    "\n",
    "Benign results account for 62.74% of the diagnosis class. Malignant results account for 37.26% of the diagnosis class. Fortunately, this data set does not suffer from class imbalance."
   ]
  },
  {
   "cell_type": "code",
   "execution_count": 16,
   "id": "c4b239a2",
   "metadata": {},
   "outputs": [
    {
     "data": {
      "text/html": [
       "<div>\n",
       "<style scoped>\n",
       "    .dataframe tbody tr th:only-of-type {\n",
       "        vertical-align: middle;\n",
       "    }\n",
       "\n",
       "    .dataframe tbody tr th {\n",
       "        vertical-align: top;\n",
       "    }\n",
       "\n",
       "    .dataframe thead th {\n",
       "        text-align: right;\n",
       "    }\n",
       "</style>\n",
       "<table border=\"1\" class=\"dataframe\">\n",
       "  <thead>\n",
       "    <tr style=\"text-align: right;\">\n",
       "      <th></th>\n",
       "      <th>diagnosis</th>\n",
       "      <th>radius_mean</th>\n",
       "      <th>texture_mean</th>\n",
       "      <th>perimeter_mean</th>\n",
       "      <th>area_mean</th>\n",
       "      <th>smoothness_mean</th>\n",
       "      <th>compactness_mean</th>\n",
       "      <th>concavity_mean</th>\n",
       "      <th>concave_points_mean</th>\n",
       "      <th>symmetry_mean</th>\n",
       "      <th>...</th>\n",
       "      <th>radius_worst</th>\n",
       "      <th>texture_worst</th>\n",
       "      <th>perimeter_worst</th>\n",
       "      <th>area_worst</th>\n",
       "      <th>smoothness_worst</th>\n",
       "      <th>compactness_worst</th>\n",
       "      <th>concavity_worst</th>\n",
       "      <th>concave_points_worst</th>\n",
       "      <th>symmetry_worst</th>\n",
       "      <th>fractal_dimension_worst</th>\n",
       "    </tr>\n",
       "  </thead>\n",
       "  <tbody>\n",
       "    <tr>\n",
       "      <th>count</th>\n",
       "      <td>569.000000</td>\n",
       "      <td>569.000000</td>\n",
       "      <td>569.000000</td>\n",
       "      <td>569.000000</td>\n",
       "      <td>569.000000</td>\n",
       "      <td>569.000000</td>\n",
       "      <td>569.000000</td>\n",
       "      <td>569.000000</td>\n",
       "      <td>569.000000</td>\n",
       "      <td>569.000000</td>\n",
       "      <td>...</td>\n",
       "      <td>569.000000</td>\n",
       "      <td>569.000000</td>\n",
       "      <td>569.000000</td>\n",
       "      <td>569.000000</td>\n",
       "      <td>569.000000</td>\n",
       "      <td>569.000000</td>\n",
       "      <td>569.000000</td>\n",
       "      <td>569.000000</td>\n",
       "      <td>569.000000</td>\n",
       "      <td>569.000000</td>\n",
       "    </tr>\n",
       "    <tr>\n",
       "      <th>mean</th>\n",
       "      <td>0.372583</td>\n",
       "      <td>14.127292</td>\n",
       "      <td>19.289649</td>\n",
       "      <td>91.969033</td>\n",
       "      <td>654.889104</td>\n",
       "      <td>0.096360</td>\n",
       "      <td>0.104341</td>\n",
       "      <td>0.088799</td>\n",
       "      <td>0.048919</td>\n",
       "      <td>0.181162</td>\n",
       "      <td>...</td>\n",
       "      <td>16.269190</td>\n",
       "      <td>25.677223</td>\n",
       "      <td>107.261213</td>\n",
       "      <td>880.583128</td>\n",
       "      <td>0.132369</td>\n",
       "      <td>0.254265</td>\n",
       "      <td>0.272188</td>\n",
       "      <td>0.114606</td>\n",
       "      <td>0.290076</td>\n",
       "      <td>0.083946</td>\n",
       "    </tr>\n",
       "    <tr>\n",
       "      <th>std</th>\n",
       "      <td>0.483918</td>\n",
       "      <td>3.524049</td>\n",
       "      <td>4.301036</td>\n",
       "      <td>24.298981</td>\n",
       "      <td>351.914129</td>\n",
       "      <td>0.014064</td>\n",
       "      <td>0.052813</td>\n",
       "      <td>0.079720</td>\n",
       "      <td>0.038803</td>\n",
       "      <td>0.027414</td>\n",
       "      <td>...</td>\n",
       "      <td>4.833242</td>\n",
       "      <td>6.146258</td>\n",
       "      <td>33.602542</td>\n",
       "      <td>569.356993</td>\n",
       "      <td>0.022832</td>\n",
       "      <td>0.157336</td>\n",
       "      <td>0.208624</td>\n",
       "      <td>0.065732</td>\n",
       "      <td>0.061867</td>\n",
       "      <td>0.018061</td>\n",
       "    </tr>\n",
       "    <tr>\n",
       "      <th>min</th>\n",
       "      <td>0.000000</td>\n",
       "      <td>6.981000</td>\n",
       "      <td>9.710000</td>\n",
       "      <td>43.790000</td>\n",
       "      <td>143.500000</td>\n",
       "      <td>0.052630</td>\n",
       "      <td>0.019380</td>\n",
       "      <td>0.000000</td>\n",
       "      <td>0.000000</td>\n",
       "      <td>0.106000</td>\n",
       "      <td>...</td>\n",
       "      <td>7.930000</td>\n",
       "      <td>12.020000</td>\n",
       "      <td>50.410000</td>\n",
       "      <td>185.200000</td>\n",
       "      <td>0.071170</td>\n",
       "      <td>0.027290</td>\n",
       "      <td>0.000000</td>\n",
       "      <td>0.000000</td>\n",
       "      <td>0.156500</td>\n",
       "      <td>0.055040</td>\n",
       "    </tr>\n",
       "    <tr>\n",
       "      <th>25%</th>\n",
       "      <td>0.000000</td>\n",
       "      <td>11.700000</td>\n",
       "      <td>16.170000</td>\n",
       "      <td>75.170000</td>\n",
       "      <td>420.300000</td>\n",
       "      <td>0.086370</td>\n",
       "      <td>0.064920</td>\n",
       "      <td>0.029560</td>\n",
       "      <td>0.020310</td>\n",
       "      <td>0.161900</td>\n",
       "      <td>...</td>\n",
       "      <td>13.010000</td>\n",
       "      <td>21.080000</td>\n",
       "      <td>84.110000</td>\n",
       "      <td>515.300000</td>\n",
       "      <td>0.116600</td>\n",
       "      <td>0.147200</td>\n",
       "      <td>0.114500</td>\n",
       "      <td>0.064930</td>\n",
       "      <td>0.250400</td>\n",
       "      <td>0.071460</td>\n",
       "    </tr>\n",
       "    <tr>\n",
       "      <th>50%</th>\n",
       "      <td>0.000000</td>\n",
       "      <td>13.370000</td>\n",
       "      <td>18.840000</td>\n",
       "      <td>86.240000</td>\n",
       "      <td>551.100000</td>\n",
       "      <td>0.095870</td>\n",
       "      <td>0.092630</td>\n",
       "      <td>0.061540</td>\n",
       "      <td>0.033500</td>\n",
       "      <td>0.179200</td>\n",
       "      <td>...</td>\n",
       "      <td>14.970000</td>\n",
       "      <td>25.410000</td>\n",
       "      <td>97.660000</td>\n",
       "      <td>686.500000</td>\n",
       "      <td>0.131300</td>\n",
       "      <td>0.211900</td>\n",
       "      <td>0.226700</td>\n",
       "      <td>0.099930</td>\n",
       "      <td>0.282200</td>\n",
       "      <td>0.080040</td>\n",
       "    </tr>\n",
       "    <tr>\n",
       "      <th>75%</th>\n",
       "      <td>1.000000</td>\n",
       "      <td>15.780000</td>\n",
       "      <td>21.800000</td>\n",
       "      <td>104.100000</td>\n",
       "      <td>782.700000</td>\n",
       "      <td>0.105300</td>\n",
       "      <td>0.130400</td>\n",
       "      <td>0.130700</td>\n",
       "      <td>0.074000</td>\n",
       "      <td>0.195700</td>\n",
       "      <td>...</td>\n",
       "      <td>18.790000</td>\n",
       "      <td>29.720000</td>\n",
       "      <td>125.400000</td>\n",
       "      <td>1084.000000</td>\n",
       "      <td>0.146000</td>\n",
       "      <td>0.339100</td>\n",
       "      <td>0.382900</td>\n",
       "      <td>0.161400</td>\n",
       "      <td>0.317900</td>\n",
       "      <td>0.092080</td>\n",
       "    </tr>\n",
       "    <tr>\n",
       "      <th>max</th>\n",
       "      <td>1.000000</td>\n",
       "      <td>28.110000</td>\n",
       "      <td>39.280000</td>\n",
       "      <td>188.500000</td>\n",
       "      <td>2501.000000</td>\n",
       "      <td>0.163400</td>\n",
       "      <td>0.345400</td>\n",
       "      <td>0.426800</td>\n",
       "      <td>0.201200</td>\n",
       "      <td>0.304000</td>\n",
       "      <td>...</td>\n",
       "      <td>36.040000</td>\n",
       "      <td>49.540000</td>\n",
       "      <td>251.200000</td>\n",
       "      <td>4254.000000</td>\n",
       "      <td>0.222600</td>\n",
       "      <td>1.058000</td>\n",
       "      <td>1.252000</td>\n",
       "      <td>0.291000</td>\n",
       "      <td>0.663800</td>\n",
       "      <td>0.207500</td>\n",
       "    </tr>\n",
       "  </tbody>\n",
       "</table>\n",
       "<p>8 rows × 31 columns</p>\n",
       "</div>"
      ],
      "text/plain": [
       "        diagnosis  radius_mean  texture_mean  perimeter_mean    area_mean  \\\n",
       "count  569.000000   569.000000    569.000000      569.000000   569.000000   \n",
       "mean     0.372583    14.127292     19.289649       91.969033   654.889104   \n",
       "std      0.483918     3.524049      4.301036       24.298981   351.914129   \n",
       "min      0.000000     6.981000      9.710000       43.790000   143.500000   \n",
       "25%      0.000000    11.700000     16.170000       75.170000   420.300000   \n",
       "50%      0.000000    13.370000     18.840000       86.240000   551.100000   \n",
       "75%      1.000000    15.780000     21.800000      104.100000   782.700000   \n",
       "max      1.000000    28.110000     39.280000      188.500000  2501.000000   \n",
       "\n",
       "       smoothness_mean  compactness_mean  concavity_mean  concave_points_mean  \\\n",
       "count       569.000000        569.000000      569.000000           569.000000   \n",
       "mean          0.096360          0.104341        0.088799             0.048919   \n",
       "std           0.014064          0.052813        0.079720             0.038803   \n",
       "min           0.052630          0.019380        0.000000             0.000000   \n",
       "25%           0.086370          0.064920        0.029560             0.020310   \n",
       "50%           0.095870          0.092630        0.061540             0.033500   \n",
       "75%           0.105300          0.130400        0.130700             0.074000   \n",
       "max           0.163400          0.345400        0.426800             0.201200   \n",
       "\n",
       "       symmetry_mean  ...  radius_worst  texture_worst  perimeter_worst  \\\n",
       "count     569.000000  ...    569.000000     569.000000       569.000000   \n",
       "mean        0.181162  ...     16.269190      25.677223       107.261213   \n",
       "std         0.027414  ...      4.833242       6.146258        33.602542   \n",
       "min         0.106000  ...      7.930000      12.020000        50.410000   \n",
       "25%         0.161900  ...     13.010000      21.080000        84.110000   \n",
       "50%         0.179200  ...     14.970000      25.410000        97.660000   \n",
       "75%         0.195700  ...     18.790000      29.720000       125.400000   \n",
       "max         0.304000  ...     36.040000      49.540000       251.200000   \n",
       "\n",
       "        area_worst  smoothness_worst  compactness_worst  concavity_worst  \\\n",
       "count   569.000000        569.000000         569.000000       569.000000   \n",
       "mean    880.583128          0.132369           0.254265         0.272188   \n",
       "std     569.356993          0.022832           0.157336         0.208624   \n",
       "min     185.200000          0.071170           0.027290         0.000000   \n",
       "25%     515.300000          0.116600           0.147200         0.114500   \n",
       "50%     686.500000          0.131300           0.211900         0.226700   \n",
       "75%    1084.000000          0.146000           0.339100         0.382900   \n",
       "max    4254.000000          0.222600           1.058000         1.252000   \n",
       "\n",
       "       concave_points_worst  symmetry_worst  fractal_dimension_worst  \n",
       "count            569.000000      569.000000               569.000000  \n",
       "mean               0.114606        0.290076                 0.083946  \n",
       "std                0.065732        0.061867                 0.018061  \n",
       "min                0.000000        0.156500                 0.055040  \n",
       "25%                0.064930        0.250400                 0.071460  \n",
       "50%                0.099930        0.282200                 0.080040  \n",
       "75%                0.161400        0.317900                 0.092080  \n",
       "max                0.291000        0.663800                 0.207500  \n",
       "\n",
       "[8 rows x 31 columns]"
      ]
     },
     "execution_count": 16,
     "metadata": {},
     "output_type": "execute_result"
    }
   ],
   "source": [
    "breast_cancer.describe()"
   ]
  },
  {
   "cell_type": "markdown",
   "id": "89018b83",
   "metadata": {},
   "source": [
    "Standardization is an important requirement for many classification models that should be handled when implementing pre-processing.\n",
    "\n",
    "Some models (like neural networks) can perform poorly if pre-processing isn't considered, so the describe() function is a good indicator for standardization.\n",
    "\n",
    "Fortunately, random forest does not require any pre-processing."
   ]
  },
  {
   "cell_type": "code",
   "execution_count": 17,
   "id": "5f88de77",
   "metadata": {},
   "outputs": [],
   "source": [
    "feature_space = breast_cancer.iloc[:, breast_cancer.columns != 'diagnosis']\n",
    "feature_class = breast_cancer.iloc[:, breast_cancer.columns == 'diagnosis']"
   ]
  },
  {
   "cell_type": "code",
   "execution_count": 18,
   "id": "2a44a4d7",
   "metadata": {},
   "outputs": [],
   "source": [
    "training_set, test_set, class_set, test_class_set = train_test_split(feature_space,\n",
    "                                                                    feature_class,\n",
    "                                                                    test_size = 0.20,\n",
    "                                                                    random_state = 42)"
   ]
  },
  {
   "cell_type": "code",
   "execution_count": 19,
   "id": "6c5b37c2",
   "metadata": {},
   "outputs": [],
   "source": [
    "class_set = class_set.values.ravel()\n",
    "test_class_set = test_class_set.values.ravel()"
   ]
  },
  {
   "cell_type": "code",
   "execution_count": 20,
   "id": "7be292e5",
   "metadata": {},
   "outputs": [],
   "source": [
    "fit_rf = RandomForestClassifier(random_state=42)"
   ]
  },
  {
   "cell_type": "markdown",
   "id": "53c7ad18",
   "metadata": {},
   "source": [
    "#### Hyperparameter Optimization"
   ]
  },
  {
   "cell_type": "code",
   "execution_count": 21,
   "id": "10e0587c",
   "metadata": {},
   "outputs": [
    {
     "name": "stdout",
     "output_type": "stream",
     "text": [
      "Best Parameters using grid search: \n",
      " {'bootstrap': True, 'criterion': 'entropy', 'max_depth': 4, 'max_features': 'log2'}\n",
      "Time taken in grid search:  67.56\n"
     ]
    }
   ],
   "source": [
    "np.random.seed(42)\n",
    "start = time.time()\n",
    "\n",
    "param_dist = {'max_depth': [2, 3, 4],\n",
    "              'bootstrap': [True, False],\n",
    "              'max_features': ['auto', 'sqrt', 'log2', None],\n",
    "              'criterion': ['gini', 'entropy']}\n",
    "\n",
    "cv_rf = GridSearchCV(estimator=fit_rf, \n",
    "                     cv = 10,\n",
    "                     param_grid=param_dist,\n",
    "                     n_jobs = 1)\n",
    "\n",
    "cv_rf.fit(training_set, class_set)\n",
    "\n",
    "print('Best Parameters using grid search: \\n',\n",
    "      cv_rf.best_params_)\n",
    "\n",
    "end = time.time()\n",
    "\n",
    "print('Time taken in grid search: {0: .2f}'.format(end - start))"
   ]
  },
  {
   "cell_type": "code",
   "execution_count": 22,
   "id": "5d863999",
   "metadata": {},
   "outputs": [
    {
     "data": {
      "text/plain": [
       "RandomForestClassifier(max_depth=3, max_features='log2', random_state=42)"
      ]
     },
     "execution_count": 22,
     "metadata": {},
     "output_type": "execute_result"
    }
   ],
   "source": [
    "# Set best parameters given by grid search\n",
    "fit_rf.set_params(criterion = 'gini',\n",
    "                  max_features = 'log2',\n",
    "                  max_depth = 3)"
   ]
  },
  {
   "cell_type": "code",
   "execution_count": 34,
   "id": "d7401530",
   "metadata": {},
   "outputs": [
    {
     "data": {
      "text/plain": [
       "RandomForestClassifier(max_depth=3, max_features='log2', oob_score=True,\n",
       "                       random_state=42)"
      ]
     },
     "execution_count": 34,
     "metadata": {},
     "output_type": "execute_result"
    }
   ],
   "source": [
    "fit_rf.set_params(warm_start=False,\n",
    "                  oob_score=True)"
   ]
  },
  {
   "cell_type": "code",
   "execution_count": 35,
   "id": "30e720ed",
   "metadata": {},
   "outputs": [],
   "source": [
    "min_estimators = 15\n",
    "max_estimators = 100"
   ]
  },
  {
   "cell_type": "code",
   "execution_count": 36,
   "id": "4ea986b5",
   "metadata": {},
   "outputs": [],
   "source": [
    "error_rate={}"
   ]
  },
  {
   "cell_type": "code",
   "execution_count": 37,
   "id": "27fd2fda",
   "metadata": {},
   "outputs": [
    {
     "data": {
      "text/plain": [
       "True"
      ]
     },
     "execution_count": 37,
     "metadata": {},
     "output_type": "execute_result"
    }
   ],
   "source": [
    "fit_rf.oob_score"
   ]
  },
  {
   "cell_type": "code",
   "execution_count": 38,
   "id": "8275dcea",
   "metadata": {},
   "outputs": [
    {
     "data": {
      "text/plain": [
       "0.9560439560439561"
      ]
     },
     "execution_count": 38,
     "metadata": {},
     "output_type": "execute_result"
    }
   ],
   "source": [
    "fit_rf.oob_score_"
   ]
  },
  {
   "cell_type": "code",
   "execution_count": 39,
   "id": "a8105a55",
   "metadata": {},
   "outputs": [],
   "source": [
    "for i in range(min_estimators, max_estimators + 1):\n",
    "    fit_rf.set_params(n_estimators=i)\n",
    "    fit_rf.fit(training_set, class_set)\n",
    "\n",
    "    # oob error rate\n",
    "    oob_error = 1 - fit_rf.oob_score_\n",
    "    error_rate[i] = oob_error"
   ]
  },
  {
   "cell_type": "code",
   "execution_count": 40,
   "id": "e3cb6060",
   "metadata": {},
   "outputs": [
    {
     "data": {
      "text/plain": [
       "{15: 0.05494505494505497,\n",
       " 16: 0.05274725274725278,\n",
       " 17: 0.0483516483516484,\n",
       " 18: 0.03956043956043953,\n",
       " 19: 0.0461538461538461,\n",
       " 20: 0.05274725274725278,\n",
       " 21: 0.0483516483516484,\n",
       " 22: 0.0461538461538461,\n",
       " 23: 0.05054945054945059,\n",
       " 24: 0.0461538461538461,\n",
       " 25: 0.0483516483516484,\n",
       " 26: 0.05274725274725278,\n",
       " 27: 0.05714285714285716,\n",
       " 28: 0.04395604395604391,\n",
       " 29: 0.04395604395604391,\n",
       " 30: 0.0483516483516484,\n",
       " 31: 0.0461538461538461,\n",
       " 32: 0.0461538461538461,\n",
       " 33: 0.0461538461538461,\n",
       " 34: 0.05274725274725278,\n",
       " 35: 0.05494505494505497,\n",
       " 36: 0.05494505494505497,\n",
       " 37: 0.05274725274725278,\n",
       " 38: 0.05054945054945059,\n",
       " 39: 0.05494505494505497,\n",
       " 40: 0.05714285714285716,\n",
       " 41: 0.05054945054945059,\n",
       " 42: 0.05054945054945059,\n",
       " 43: 0.0483516483516484,\n",
       " 44: 0.05054945054945059,\n",
       " 45: 0.0461538461538461,\n",
       " 46: 0.0461538461538461,\n",
       " 47: 0.0461538461538461,\n",
       " 48: 0.0483516483516484,\n",
       " 49: 0.0483516483516484,\n",
       " 50: 0.0461538461538461,\n",
       " 51: 0.0461538461538461,\n",
       " 52: 0.0483516483516484,\n",
       " 53: 0.0461538461538461,\n",
       " 54: 0.0461538461538461,\n",
       " 55: 0.0483516483516484,\n",
       " 56: 0.0483516483516484,\n",
       " 57: 0.05054945054945059,\n",
       " 58: 0.0483516483516484,\n",
       " 59: 0.0461538461538461,\n",
       " 60: 0.0461538461538461,\n",
       " 61: 0.0483516483516484,\n",
       " 62: 0.05054945054945059,\n",
       " 63: 0.05054945054945059,\n",
       " 64: 0.05054945054945059,\n",
       " 65: 0.05054945054945059,\n",
       " 66: 0.05054945054945059,\n",
       " 67: 0.05054945054945059,\n",
       " 68: 0.05274725274725278,\n",
       " 69: 0.05274725274725278,\n",
       " 70: 0.05274725274725278,\n",
       " 71: 0.05274725274725278,\n",
       " 72: 0.05274725274725278,\n",
       " 73: 0.0461538461538461,\n",
       " 74: 0.0461538461538461,\n",
       " 75: 0.04175824175824172,\n",
       " 76: 0.0461538461538461,\n",
       " 77: 0.0461538461538461,\n",
       " 78: 0.0461538461538461,\n",
       " 79: 0.0483516483516484,\n",
       " 80: 0.0483516483516484,\n",
       " 81: 0.0461538461538461,\n",
       " 82: 0.0461538461538461,\n",
       " 83: 0.0461538461538461,\n",
       " 84: 0.0461538461538461,\n",
       " 85: 0.0461538461538461,\n",
       " 86: 0.0461538461538461,\n",
       " 87: 0.0461538461538461,\n",
       " 88: 0.05054945054945059,\n",
       " 89: 0.05054945054945059,\n",
       " 90: 0.05054945054945059,\n",
       " 91: 0.05054945054945059,\n",
       " 92: 0.0483516483516484,\n",
       " 93: 0.0483516483516484,\n",
       " 94: 0.0461538461538461,\n",
       " 95: 0.04395604395604391,\n",
       " 96: 0.0461538461538461,\n",
       " 97: 0.0461538461538461,\n",
       " 98: 0.0461538461538461,\n",
       " 99: 0.0483516483516484,\n",
       " 100: 0.04395604395604391}"
      ]
     },
     "execution_count": 40,
     "metadata": {},
     "output_type": "execute_result"
    }
   ],
   "source": [
    "error_rate"
   ]
  },
  {
   "cell_type": "code",
   "execution_count": 41,
   "id": "5df89a78",
   "metadata": {},
   "outputs": [],
   "source": [
    "# Convert dictionary to a pandas series for easy plotting\n",
    "oob_series = pd.Series(error_rate)"
   ]
  },
  {
   "cell_type": "code",
   "execution_count": 42,
   "id": "13460f09",
   "metadata": {},
   "outputs": [
    {
     "data": {
      "text/plain": [
       "Text(0.5, 1.0, 'OOB Error Rate Across various Forest sizes \\n(From 15 to 100 trees)')"
      ]
     },
     "execution_count": 42,
     "metadata": {},
     "output_type": "execute_result"
    },
    {
     "data": {
      "image/png": "[encoded data removed]",
      "text/plain": [
       "<Figure size 720x720 with 1 Axes>"
      ]
     },
     "metadata": {},
     "output_type": "display_data"
    }
   ],
   "source": [
    "fig, ax = plt.subplots(figsize=(10, 10))\n",
    "\n",
    "ax.set_facecolor('#fafafa')\n",
    "\n",
    "oob_series.plot(kind='line',\n",
    "                color = 'red')\n",
    "plt.axhline(0.055,\n",
    "            color='#875FDB',\n",
    "           linestyle='--')\n",
    "plt.axhline(0.05,\n",
    "            color='#875FDB',\n",
    "           linestyle='--')\n",
    "plt.xlabel('n_estimators')\n",
    "plt.ylabel('OOB Error Rate')\n",
    "plt.title('OOB Error Rate Across various Forest sizes \\n(From 15 to 100 trees)')"
   ]
  },
  {
   "cell_type": "code",
   "execution_count": 43,
   "id": "cf4c1b9a",
   "metadata": {},
   "outputs": [
    {
     "data": {
      "text/plain": [
       "15     0.054945\n",
       "16     0.052747\n",
       "17     0.048352\n",
       "18     0.039560\n",
       "19     0.046154\n",
       "         ...   \n",
       "96     0.046154\n",
       "97     0.046154\n",
       "98     0.046154\n",
       "99     0.048352\n",
       "100    0.043956\n",
       "Length: 86, dtype: float64"
      ]
     },
     "execution_count": 43,
     "metadata": {},
     "output_type": "execute_result"
    }
   ],
   "source": [
    "oob_series"
   ]
  },
  {
   "cell_type": "code",
   "execution_count": 44,
   "id": "266df4f0",
   "metadata": {},
   "outputs": [
    {
     "name": "stdout",
     "output_type": "stream",
     "text": [
      "OOB Error rate for 40 trees is: 0.05714\n"
     ]
    }
   ],
   "source": [
    "print('OOB Error rate for 40 trees is: {0:.5f}'.format(oob_series[40]))"
   ]
  },
  {
   "cell_type": "code",
   "execution_count": 45,
   "id": "59697118",
   "metadata": {},
   "outputs": [
    {
     "data": {
      "text/plain": [
       "RandomForestClassifier(max_depth=3, max_features='log2', n_estimators=400,\n",
       "                       random_state=42)"
      ]
     },
     "execution_count": 45,
     "metadata": {},
     "output_type": "execute_result"
    }
   ],
   "source": [
    "fit_rf.set_params(n_estimators=400,\n",
    "              bootstrap = True,\n",
    "              warm_start=False,\n",
    "              oob_score=False)"
   ]
  },
  {
   "cell_type": "markdown",
   "id": "0a39c43d",
   "metadata": {},
   "source": [
    "\n",
    "Training the Algorithm\n",
    "Next, let's train the algorithm with the training and target class data sets we made earlier."
   ]
  },
  {
   "cell_type": "code",
   "execution_count": 46,
   "id": "c687341f",
   "metadata": {},
   "outputs": [
    {
     "data": {
      "text/plain": [
       "RandomForestClassifier(max_depth=3, max_features='log2', n_estimators=400,\n",
       "                       random_state=42)"
      ]
     },
     "execution_count": 46,
     "metadata": {},
     "output_type": "execute_result"
    }
   ],
   "source": [
    "fit_rf.fit(training_set, class_set)"
   ]
  },
  {
   "cell_type": "code",
   "execution_count": 47,
   "id": "2a5b4599",
   "metadata": {},
   "outputs": [],
   "source": [
    "importances_rf = fit_rf.feature_importances_\n",
    "indices_rf = np.argsort(importances_rf)[::-1]"
   ]
  },
  {
   "cell_type": "code",
   "execution_count": 48,
   "id": "0bd1d01e",
   "metadata": {},
   "outputs": [],
   "source": [
    "def variable_importance(importance, indices):\n",
    "    print(\"Feature ranking:\")\n",
    "\n",
    "    for f in range(len(names_index)):\n",
    "        i = f\n",
    "        print(\"%d. The feature '%s' \\\n",
    "has a Mean Decrease in Gini of %f\" % (f + 1,\n",
    "                                         names_index[indices[i]],\n",
    "                                         importance[indices[f]]))"
   ]
  },
  {
   "cell_type": "code",
   "execution_count": 49,
   "id": "00a825f5",
   "metadata": {},
   "outputs": [
    {
     "name": "stdout",
     "output_type": "stream",
     "text": [
      "Feature ranking:\n",
      "1. The feature 'area_worst' has a Mean Decrease in Gini of 0.129856\n",
      "2. The feature 'perimeter_worst' has a Mean Decrease in Gini of 0.120953\n",
      "3. The feature 'concave_points_worst' has a Mean Decrease in Gini of 0.115548\n",
      "4. The feature 'concave_points_mean' has a Mean Decrease in Gini of 0.100136\n",
      "5. The feature 'radius_worst' has a Mean Decrease in Gini of 0.078047\n",
      "6. The feature 'concavity_mean' has a Mean Decrease in Gini of 0.062143\n",
      "7. The feature 'area_mean' has a Mean Decrease in Gini of 0.056556\n",
      "8. The feature 'radius_mean' has a Mean Decrease in Gini of 0.054567\n",
      "9. The feature 'perimeter_mean' has a Mean Decrease in Gini of 0.051745\n",
      "10. The feature 'area_se' has a Mean Decrease in Gini of 0.043261\n",
      "11. The feature 'concavity_worst' has a Mean Decrease in Gini of 0.038659\n",
      "12. The feature 'compactness_worst' has a Mean Decrease in Gini of 0.020329\n",
      "13. The feature 'compactness_mean' has a Mean Decrease in Gini of 0.016163\n",
      "14. The feature 'texture_worst' has a Mean Decrease in Gini of 0.015542\n",
      "15. The feature 'radius_se' has a Mean Decrease in Gini of 0.014521\n",
      "16. The feature 'perimeter_se' has a Mean Decrease in Gini of 0.013084\n",
      "17. The feature 'texture_mean' has a Mean Decrease in Gini of 0.012203\n",
      "18. The feature 'symmetry_worst' has a Mean Decrease in Gini of 0.011750\n",
      "19. The feature 'smoothness_worst' has a Mean Decrease in Gini of 0.009380\n",
      "20. The feature 'concavity_se' has a Mean Decrease in Gini of 0.009105\n",
      "21. The feature 'concave_points_se' has a Mean Decrease in Gini of 0.004449\n",
      "22. The feature 'smoothness_mean' has a Mean Decrease in Gini of 0.003982\n",
      "23. The feature 'fractal_dimension_se' has a Mean Decrease in Gini of 0.003953\n",
      "24. The feature 'fractal_dimension_worst' has a Mean Decrease in Gini of 0.002672\n",
      "25. The feature 'fractal_dimension_mean' has a Mean Decrease in Gini of 0.002210\n",
      "26. The feature 'smoothness_se' has a Mean Decrease in Gini of 0.002169\n",
      "27. The feature 'symmetry_mean' has a Mean Decrease in Gini of 0.002051\n",
      "28. The feature 'texture_se' has a Mean Decrease in Gini of 0.002043\n",
      "29. The feature 'symmetry_se' has a Mean Decrease in Gini of 0.001937\n",
      "30. The feature 'compactness_se' has a Mean Decrease in Gini of 0.000987\n"
     ]
    }
   ],
   "source": [
    "variable_importance(importances_rf, indices_rf)"
   ]
  },
  {
   "cell_type": "markdown",
   "id": "6d932331",
   "metadata": {},
   "source": [
    "We can see here that our top 5 variables are\n",
    "\n",
    "area_worst,\n",
    "perimeter_worst,\n",
    "concave_points_worst,\n",
    "concave_points_mean,\n",
    "radius_worst.\n",
    "!!! This gives us great insight for further analyses like feature engineering"
   ]
  },
  {
   "cell_type": "code",
   "execution_count": 50,
   "id": "9f03d511",
   "metadata": {},
   "outputs": [],
   "source": [
    "def variable_importance_plot(importance, indices):\n",
    "    index = np.arange(len(names_index))\n",
    "\n",
    "    importance_desc = sorted(importance)\n",
    "    feature_space = []\n",
    "    for i in range(29, -1, -1):\n",
    "        feature_space.append(names_index[indices[i]])\n",
    "\n",
    "    fig, ax = plt.subplots(figsize=(10, 10))\n",
    "\n",
    "    ax.set_facecolor('#fafafa')\n",
    "    plt.title('Feature importances for Random Forest Model\\\n",
    "    \\nBreast Cancer (Diagnostic)')\n",
    "    plt.barh(index,\n",
    "         importance_desc,\n",
    "         align=\"center\",\n",
    "         color = '#875FDB')\n",
    "    plt.yticks(index,\n",
    "           feature_space)\n",
    "\n",
    "    plt.ylim(-1, 30)\n",
    "    plt.xlim(0, max(importance_desc))\n",
    "    plt.xlabel('Mean Decrease in Gini')\n",
    "    plt.ylabel('Feature')\n",
    "\n",
    "    plt.show()\n",
    "    plt.close()"
   ]
  },
  {
   "cell_type": "code",
   "execution_count": 51,
   "id": "cf4b49b9",
   "metadata": {},
   "outputs": [
    {
     "data": {
      "image/png": "[encoded data removed]",
      "text/plain": [
       "<Figure size 720x720 with 1 Axes>"
      ]
     },
     "metadata": {},
     "output_type": "display_data"
    }
   ],
   "source": [
    "variable_importance_plot(importances_rf, indices_rf)"
   ]
  },
  {
   "cell_type": "code",
   "execution_count": 52,
   "id": "ba496c1d",
   "metadata": {},
   "outputs": [],
   "source": [
    "def cross_val_metrics(fit, training_set, class_set, print_results = True):\n",
    "    n = KFold(n_splits=10)\n",
    "    scores = cross_val_score(fit,\n",
    "                     training_set,\n",
    "                     class_set,\n",
    "                     cv = n)\n",
    "    if print_results:\n",
    "        print(\"Accuracy: {0: 0.3f} (+/- {1: 0.3f})\"\\\n",
    "          .format(scores.mean(), scores.std() / 2))\n",
    "    else:\n",
    "        return scores.mean(), scores.std() / 2"
   ]
  },
  {
   "cell_type": "code",
   "execution_count": 53,
   "id": "8e4c9c8b",
   "metadata": {},
   "outputs": [
    {
     "name": "stdout",
     "output_type": "stream",
     "text": [
      "Accuracy:  0.947 (+/-  0.019)\n"
     ]
    }
   ],
   "source": [
    "cross_val_metrics(fit_rf,\n",
    "              training_set,\n",
    "              class_set,\n",
    "              print_results = True)"
   ]
  },
  {
   "cell_type": "code",
   "execution_count": 54,
   "id": "dac84e7a",
   "metadata": {},
   "outputs": [],
   "source": [
    "#### Test Set Metrics"
   ]
  },
  {
   "cell_type": "code",
   "execution_count": 55,
   "id": "7809985d",
   "metadata": {},
   "outputs": [],
   "source": [
    "predictions_rf = fit_rf.predict(test_set)"
   ]
  },
  {
   "cell_type": "code",
   "execution_count": 56,
   "id": "34555fec",
   "metadata": {},
   "outputs": [
    {
     "data": {
      "text/html": [
       "<div>\n",
       "<style scoped>\n",
       "    .dataframe tbody tr th:only-of-type {\n",
       "        vertical-align: middle;\n",
       "    }\n",
       "\n",
       "    .dataframe tbody tr th {\n",
       "        vertical-align: top;\n",
       "    }\n",
       "\n",
       "    .dataframe thead th {\n",
       "        text-align: right;\n",
       "    }\n",
       "</style>\n",
       "<table border=\"1\" class=\"dataframe\">\n",
       "  <thead>\n",
       "    <tr style=\"text-align: right;\">\n",
       "      <th>n = 114</th>\n",
       "      <th>Benign</th>\n",
       "      <th>Malignant</th>\n",
       "    </tr>\n",
       "  </thead>\n",
       "  <tbody>\n",
       "    <tr>\n",
       "      <th>Benign</th>\n",
       "      <td>70</td>\n",
       "      <td>1</td>\n",
       "    </tr>\n",
       "    <tr>\n",
       "      <th>Malignant</th>\n",
       "      <td>3</td>\n",
       "      <td>40</td>\n",
       "    </tr>\n",
       "  </tbody>\n",
       "</table>\n",
       "</div>"
      ],
      "text/plain": [
       "n = 114    Benign  Malignant\n",
       "Benign         70          1\n",
       "Malignant       3         40"
      ]
     },
     "execution_count": 56,
     "metadata": {},
     "output_type": "execute_result"
    }
   ],
   "source": [
    "test_crosstb = pd.crosstab(index = test_class_set,\n",
    "                           columns = predictions_rf)\n",
    "\n",
    "test_crosstb = test_crosstb.rename(columns= {0: 'Benign', 1: 'Malignant'})\n",
    "test_crosstb.index = ['Benign', 'Malignant']\n",
    "test_crosstb.columns.name = 'n = 114'\n",
    "\n",
    "test_crosstb"
   ]
  },
  {
   "cell_type": "code",
   "execution_count": 57,
   "id": "8a663052",
   "metadata": {},
   "outputs": [
    {
     "name": "stdout",
     "output_type": "stream",
     "text": [
      "Here is our mean accuracy on the test set:\n",
      " 0.965\n"
     ]
    }
   ],
   "source": [
    "accuracy_rf = fit_rf.score(test_set, test_class_set)\n",
    "\n",
    "print(\"Here is our mean accuracy on the test set:\\n {0:.3f}\"\\\n",
    "      .format(accuracy_rf))"
   ]
  },
  {
   "cell_type": "code",
   "execution_count": 58,
   "id": "3aac0560",
   "metadata": {},
   "outputs": [
    {
     "name": "stdout",
     "output_type": "stream",
     "text": [
      "The test error rate for our model is:\n",
      "  0.0351\n"
     ]
    }
   ],
   "source": [
    "# Here we calculate the test error rate!\n",
    "test_error_rate_rf = 1 - accuracy_rf\n",
    "print(\"The test error rate for our model is:\\n {0: .4f}\"\\\n",
    "      .format(test_error_rate_rf))"
   ]
  },
  {
   "cell_type": "markdown",
   "id": "b797f386",
   "metadata": {},
   "source": [
    "We can see, we got a very similar error rate for our test set to the one we got with our OOB, which is a good sign for our model.\n",
    "ROC Curve Metrics\n",
    "A receiver operating characteristic (ROC) curve calculates the false positive rates and true positive rates across different thresholds."
   ]
  },
  {
   "cell_type": "code",
   "execution_count": 59,
   "id": "2bd599f0",
   "metadata": {},
   "outputs": [],
   "source": [
    "fpr2, tpr2, _ = roc_curve(predictions_rf,\n",
    "                      test_class_set)\n",
    "predictions_prob = fit_rf.predict_proba(test_set)[:, 1]\n",
    "auc_rf = auc(fpr2, tpr2)"
   ]
  },
  {
   "cell_type": "code",
   "execution_count": 60,
   "id": "cd488756",
   "metadata": {},
   "outputs": [],
   "source": [
    "def plot_roc_curve(fpr, tpr, auc, mod, xlim=None, ylim=None):\n",
    "  \n",
    "    mod_list = ['knn', 'rf', 'nn']\n",
    "    method = [('Kth Nearest Neighbor', 'deeppink'),\n",
    "          ('Random Forest', 'red'),\n",
    "          ('Neural Network', 'purple')]\n",
    "\n",
    "    plot_title = ''\n",
    "    color_value = ''\n",
    "    for i in range(0, 3):\n",
    "        if mod_list[i] == mod:\n",
    "            plot_title = method[i][0]\n",
    "            color_value = method[i][1]\n",
    "\n",
    "    fig, ax = plt.subplots(figsize=(10, 10))\n",
    "    ax.set_facecolor('#fafafa')\n",
    "\n",
    "    plt.plot(fpr, tpr,\n",
    "         color=color_value,\n",
    "         linewidth=1)\n",
    "    plt.title('ROC Curve For {0} (AUC = {1: 0.3f}) \\\n",
    "          \\nBreast Cancer Diagnostic'\\\n",
    "          .format(plot_title, auc))\n",
    "\n",
    "    plt.plot([0, 1], [0, 1], 'k--', lw=2) # Add Diagonal line\n",
    "    plt.plot([0, 0], [1, 0], 'k--', lw=2, color = 'black')\n",
    "    plt.plot([1, 0], [1, 1], 'k--', lw=2, color = 'black')\n",
    "    if xlim is not None:\n",
    "        plt.xlim(*xlim)\n",
    "    if ylim is not None:\n",
    "        plt.ylim(*ylim)\n",
    "    plt.xlabel('False Positive Rate')\n",
    "    plt.ylabel('True Positive Rate')\n",
    "    plt.show()\n",
    "    plt.close()"
   ]
  },
  {
   "cell_type": "code",
   "execution_count": 61,
   "id": "dc0b91d9",
   "metadata": {},
   "outputs": [
    {
     "data": {
      "image/png": "[encoded data removed]",
      "text/plain": [
       "<Figure size 720x720 with 1 Axes>"
      ]
     },
     "metadata": {},
     "output_type": "display_data"
    }
   ],
   "source": [
    "plot_roc_curve(fpr2, tpr2, auc_rf, 'rf',\n",
    "           xlim=(-0.01, 1.05),\n",
    "           ylim=(0.001, 1.05))"
   ]
  },
  {
   "cell_type": "code",
   "execution_count": 62,
   "id": "e2572935",
   "metadata": {},
   "outputs": [
    {
     "data": {
      "image/png": "[encoded data removed]",
      "text/plain": [
       "<Figure size 720x720 with 1 Axes>"
      ]
     },
     "metadata": {},
     "output_type": "display_data"
    }
   ],
   "source": [
    "plot_roc_curve(fpr2, tpr2, auc_rf, 'rf',\n",
    "               xlim=(-0.01, 0.2),\n",
    "               ylim=(0.85, 1.01))"
   ]
  },
  {
   "cell_type": "markdown",
   "id": "186852ed",
   "metadata": {},
   "source": [
    "Classification Report"
   ]
  },
  {
   "cell_type": "code",
   "execution_count": 63,
   "id": "fd2eac2a",
   "metadata": {},
   "outputs": [],
   "source": [
    "def print_class_report(predictions, alg_name): \n",
    "    print('Classification Report for {0}:'.format(alg_name))\n",
    "    print(classification_report(predictions,\n",
    "            test_class_set,\n",
    "            target_names = dx))"
   ]
  },
  {
   "cell_type": "code",
   "execution_count": 64,
   "id": "5fa0f831",
   "metadata": {},
   "outputs": [
    {
     "name": "stdout",
     "output_type": "stream",
     "text": [
      "Classification Report for Random Forest:\n",
      "              precision    recall  f1-score   support\n",
      "\n",
      "      Benign       0.99      0.96      0.97        73\n",
      "   Malignant       0.93      0.98      0.95        41\n",
      "\n",
      "    accuracy                           0.96       114\n",
      "   macro avg       0.96      0.97      0.96       114\n",
      "weighted avg       0.97      0.96      0.97       114\n",
      "\n"
     ]
    }
   ],
   "source": [
    "class_report = print_class_report(predictions_rf, 'Random Forest')"
   ]
  }
 ],
 "metadata": {
  "kernelspec": {
   "display_name": "Python 3 (ipykernel)",
   "language": "python",
   "name": "python3"
  },
  "language_info": {
   "codemirror_mode": {
    "name": "ipython",
    "version": 3
   },
   "file_extension": ".py",
   "mimetype": "text/x-python",
   "name": "python",
   "nbconvert_exporter": "python",
   "pygments_lexer": "ipython3",
   "version": "3.9.7"
  }
 },
 "nbformat": 4,
 "nbformat_minor": 5
}
